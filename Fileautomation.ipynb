{
 "cells": [
  {
   "cell_type": "code",
   "execution_count": 15,
   "id": "9a2bf690",
   "metadata": {},
   "outputs": [],
   "source": [
    "import os, shutil , _osx_support"
   ]
  },
  {
   "cell_type": "code",
   "execution_count": 16,
   "id": "3d2e1d63",
   "metadata": {},
   "outputs": [],
   "source": [
    "path = r\"your file path here \""
   ]
  },
  {
   "cell_type": "code",
   "execution_count": 17,
   "id": "bdfa66ea",
   "metadata": {
    "scrolled": true
   },
   "outputs": [],
   "source": [
    "file_name = os.listdir(path)"
   ]
  },
  {
   "cell_type": "code",
   "execution_count": null,
   "id": "829de1aa",
   "metadata": {},
   "outputs": [],
   "source": [
    "folder_names = ['pdf files', 'jpg files', 'png files']\n",
    "\n",
    "for loop in range(0,3):\n",
    "    if not os.path.exists(path + folder_names[loop]):\n",
    "        \n",
    "        os.makedirs(path + folder_names[loop])\n",
    "        \n",
    "for file in file_name:\n",
    "    if \".pdf\" in file and not os.path.exists(path + \"pdf files/\" + file):\n",
    "        shutil.move(path + file, path + \"pdf files/\" + file)\n",
    "    elif \".jpg\" in file and not os.path.exists(path + \"jpg files/\"+ file):\n",
    "        shutil.move(path + file, path + \"jpg files/\"+ file)\n",
    "    elif \".png\" in file and not os.path.exists(path +\"png files/\"+ file):\n",
    "        shutil.move(path + file, path +\"png files/\"+ file)\n",
    "    else:\n",
    "        print(\"File not recognized\")"
   ]
  },
  {
   "cell_type": "code",
   "execution_count": null,
   "id": "4601a027",
   "metadata": {},
   "outputs": [],
   "source": []
  },
  {
   "cell_type": "code",
   "execution_count": null,
   "id": "2fd218e9",
   "metadata": {},
   "outputs": [],
   "source": []
  },
  {
   "cell_type": "code",
   "execution_count": null,
   "id": "afac6faa",
   "metadata": {},
   "outputs": [],
   "source": []
  },
  {
   "cell_type": "code",
   "execution_count": null,
   "id": "7c1c3a5e",
   "metadata": {},
   "outputs": [],
   "source": []
  },
  {
   "cell_type": "code",
   "execution_count": null,
   "id": "645f0200",
   "metadata": {},
   "outputs": [],
   "source": []
  },
  {
   "cell_type": "code",
   "execution_count": null,
   "id": "47661810",
   "metadata": {},
   "outputs": [],
   "source": []
  },
  {
   "cell_type": "code",
   "execution_count": null,
   "id": "9030921b",
   "metadata": {},
   "outputs": [],
   "source": []
  },
  {
   "cell_type": "code",
   "execution_count": null,
   "id": "fb06b99b",
   "metadata": {},
   "outputs": [],
   "source": []
  },
  {
   "cell_type": "code",
   "execution_count": null,
   "id": "f5c3f191",
   "metadata": {},
   "outputs": [],
   "source": []
  }
 ],
 "metadata": {
  "kernelspec": {
   "display_name": "Python 3.11.2 64-bit",
   "language": "python",
   "name": "python3"
  },
  "language_info": {
   "codemirror_mode": {
    "name": "ipython",
    "version": 3
   },
   "file_extension": ".py",
   "mimetype": "text/x-python",
   "name": "python",
   "nbconvert_exporter": "python",
   "pygments_lexer": "ipython3",
   "version": "3.11.2"
  },
  "vscode": {
   "interpreter": {
    "hash": "b0fa6594d8f4cbf19f97940f81e996739fb7646882a419484c72d19e05852a7e"
   }
  }
 },
 "nbformat": 4,
 "nbformat_minor": 5
}
